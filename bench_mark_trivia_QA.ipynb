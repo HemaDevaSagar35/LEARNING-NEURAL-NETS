{
 "cells": [
  {
   "cell_type": "code",
   "execution_count": null,
   "metadata": {},
   "outputs": [],
   "source": [
    "import os\n",
    "import torch\n",
    "\n",
    "from models import llm_mistral_small\n",
    "from benchmarking import EvaluateOnQA\n",
    "\n",
    "from utils.data_process import *"
   ]
  },
  {
   "cell_type": "code",
   "execution_count": null,
   "metadata": {},
   "outputs": [],
   "source": [
    "bench_model = llm_mistral_small(path = '')\n",
    "qa_eval_pipeline = EvaluateOnQA(bench_model)"
   ]
  },
  {
   "cell_type": "code",
   "execution_count": null,
   "metadata": {},
   "outputs": [],
   "source": [
    "stats = qa_eval_pipeline.evaluate(task = 'mandarjoshi/trivia_qa', fetch_fn = triviaQA, type = \"test\")"
   ]
  },
  {
   "cell_type": "code",
   "execution_count": null,
   "metadata": {},
   "outputs": [],
   "source": [
    "print(stats)"
   ]
  }
 ],
 "metadata": {
  "language_info": {
   "name": "python"
  }
 },
 "nbformat": 4,
 "nbformat_minor": 2
}
